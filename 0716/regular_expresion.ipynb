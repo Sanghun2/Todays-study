{
 "cells": [
  {
   "cell_type": "code",
   "execution_count": 2,
   "metadata": {},
   "outputs": [],
   "source": [
    "import re"
   ]
  },
  {
   "cell_type": "code",
   "execution_count": 14,
   "metadata": {},
   "outputs": [
    {
     "name": "stdout",
     "output_type": "stream",
     "text": [
      "None\n"
     ]
    }
   ],
   "source": [
    "p1 = re.match(\"hello\", \"world, hello\")\n",
    "p2 = re.match(\"hello\", \"hello, world\")\n",
    "print(p1)\n",
    "# p1에서 hello가 있지만 match되지 않으므로 False"
   ]
  },
  {
   "cell_type": "code",
   "execution_count": 11,
   "metadata": {},
   "outputs": [
    {
     "data": {
      "text/plain": [
       "<re.Match object; span=(7, 12), match='hello'>"
      ]
     },
     "execution_count": 11,
     "metadata": {},
     "output_type": "execute_result"
    }
   ],
   "source": [
    "re.search(\"hello\", \"world, hello\")\n",
    "# search로 문자열 전체를 검색했을 때 hello가 있으므로 True"
   ]
  },
  {
   "cell_type": "code",
   "execution_count": 81,
   "metadata": {},
   "outputs": [
    {
     "data": {
      "text/plain": [
       "<re.Match object; span=(0, 5), match='hello'>"
      ]
     },
     "execution_count": 81,
     "metadata": {},
     "output_type": "execute_result"
    }
   ],
   "source": [
    "re.search('world|hello', 'hello, world')\n",
    "# world$로 끝나지만 match가 되지 않으므로 none\n",
    "# |를 썼을때는 가장 먼저 매치되는 하나만 출력"
   ]
  },
  {
   "cell_type": "code",
   "execution_count": 40,
   "metadata": {},
   "outputs": [
    {
     "data": {
      "text/plain": [
       "<re.Match object; span=(0, 11), match='asd43564789'>"
      ]
     },
     "execution_count": 40,
     "metadata": {},
     "output_type": "execute_result"
    }
   ],
   "source": [
    "p = re.compile('.+[0-9]')\n",
    "p.match('asd43564789a')\n",
    "#p = re.compile('.+[0-9]')는 ''안의 패턴을 가진 객체를 생성하는 단계. 뒤에 .match를 붙여도 동작하지 않는다.\n",
    "# p.match('asd43564789a') ''안의 문자열이 객체p에 match되는지를 판단.\n",
    "# 앞문자는 무엇이든지 상관없고 뒤문자는 숫자만  match..따라서 마지막a는 출력되지 않음.\n",
    "# a~8까지는 .+에 해당. 9는 [0-9]에 해당."
   ]
  },
  {
   "cell_type": "code",
   "execution_count": 59,
   "metadata": {},
   "outputs": [],
   "source": [
    "p = re.compile('[0-9]+')\n",
    "p.match('   asdasda')\n",
    "# [0-9]* 는 숫자만 매치.. 없으먄 빈칸출력\n",
    "# [0-9]+ 는 숫자만 매치.. 없으면 매치되지 않음"
   ]
  },
  {
   "cell_type": "code",
   "execution_count": 82,
   "metadata": {},
   "outputs": [
    {
     "data": {
      "text/plain": [
       "<re.Match object; span=(0, 1), match='0'>"
      ]
     },
     "execution_count": 82,
     "metadata": {},
     "output_type": "execute_result"
    }
   ],
   "source": [
    "import re\n",
    "\n",
    "p = re.compile('[0-9]*')\n",
    "p.match('0asdasd')"
   ]
  },
  {
   "cell_type": "code",
   "execution_count": null,
   "metadata": {},
   "outputs": [],
   "source": [
    "# 휴대전화 번호가 형식(000-0000-0000) 에 맞는지를 판단하는 정규표현식\n",
    "a = \"re.match('[0-9]{3}-[0-9]{4}-[0-9]{4}', '010-1000-1000') \""
   ]
  },
  {
   "cell_type": "code",
   "execution_count": null,
   "metadata": {},
   "outputs": [],
   "source": [
    "# 전화번호가 형식에 맞는지 판단하는 정규 표현식 (첫번째 지역번호는 2~3자리, 두번째 번호도 3~4가 될 수 있다)\n",
    "a = \"\"\">>> re.match('[0-9]{2,3}-[0-9]{3,4}-[0-9]{4}', '02-100-1000')    # 2~3개-3~4개-4개 패턴에 매칭됨\n",
    "<_sre.SRE_Match object; span=(0, 11), match='02-100-1000'>\"\"\""
   ]
  },
  {
   "cell_type": "code",
   "execution_count": null,
   "metadata": {},
   "outputs": [],
   "source": [
    "# abd에서 c 위치에 c가 0개 있으므로 패턴에 매칭됨\n",
    "# 'abc?d', 'abd'\n",
    "a = \"<_sre.SRE_Match object; span=(0, 3), match='abd'>\""
   ]
  },
  {
   "cell_type": "code",
   "execution_count": null,
   "metadata": {},
   "outputs": [],
   "source": [
    " # [0-9] 위치에 숫자가 1개 있으므로 패턴에 매칭됨\n",
    "#     'ab[0-9]?c', 'ab3c'\n",
    "a = \"<_sre.SRE_Match object; span=(0, 4), match='ab3c'>\""
   ]
  },
  {
   "cell_type": "code",
   "execution_count": null,
   "metadata": {},
   "outputs": [],
   "source": [
    "# .이 있는 위치에 문자가 1개 있으므로 패턴에 매칭됨\n",
    "# 'ab.d', 'abxd'\n",
    "a = \"<_sre.SRE_Match object; span=(0, 4), match='abxd'>\""
   ]
  },
  {
   "cell_type": "code",
   "execution_count": 84,
   "metadata": {},
   "outputs": [
    {
     "data": {
      "text/plain": [
       "<re.Match object; span=(44, 47), match='aab'>"
      ]
     },
     "execution_count": 84,
     "metadata": {},
     "output_type": "execute_result"
    }
   ],
   "source": [
    "a = '<_sre.SRE_Match object; span=(0, 3), match=\"aab\">'\n",
    "#aab가 서치되게 만들기"
   ]
  },
  {
   "cell_type": "code",
   "execution_count": 99,
   "metadata": {},
   "outputs": [
    {
     "data": {
      "text/plain": [
       "<re.Match object; span=(39, 45), match=\"가')   \">"
      ]
     },
     "execution_count": 99,
     "metadata": {},
     "output_type": "execute_result"
    }
   ],
   "source": [
    "a = \">>> re.match('[a-zA-Z0-9]+', 'Hello1234가')   \"\n",
    "\n",
    "p = re.compile('[가-힣].+')\n",
    "p.search(a)"
   ]
  },
  {
   "cell_type": "code",
   "execution_count": null,
   "metadata": {},
   "outputs": [],
   "source": [
    "#[^범위]* 또는 [^범위]+ : 해당 범위를 재외한 문자가 0 또는 1개이상 있는지 판단\n",
    "# 대문자를 제외. 대문자가 있으므로 패턴에 매칭되지 않음\n",
    "a = 'Hello'\n"
   ]
  },
  {
   "cell_type": "code",
   "execution_count": null,
   "metadata": {},
   "outputs": [],
   "source": [
    "# 대문자를 제외. 대문자가 없으므로 패턴에 매칭됨, [^범위]+ \n",
    "a = 'hello'"
   ]
  },
  {
   "cell_type": "code",
   "execution_count": null,
   "metadata": {},
   "outputs": [],
   "source": [
    "# 특수문자가 들어있는지 판단\n",
    "a = '1 ** 2' #*이 1개이상 들어있는지 판단"
   ]
  },
  {
   "cell_type": "markdown",
   "metadata": {},
   "source": [
    "# Group"
   ]
  },
  {
   "cell_type": "markdown",
   "metadata": {},
   "source": [
    "### (정규표현식) (정규표현식) \n",
    "> ()괄호로 정규표현식 그룹을 나누어, 해당 그룹과 일치하는 문자열을 얻어올 때 사용."
   ]
  },
  {
   "cell_type": "code",
   "execution_count": 19,
   "metadata": {},
   "outputs": [
    {
     "name": "stdout",
     "output_type": "stream",
     "text": [
      "<re.Match object; span=(0, 13), match='10 295 adasda'>\n",
      "10 295 adasda\n"
     ]
    }
   ],
   "source": [
    "import re\n",
    "a= '10 295 adasda'\n",
    "m = re.compile('([0-9]+) ([0-9]+).+')\n",
    "print(m.match(a))\n",
    "print(m.match(a).group(0))\n",
    "#.group(1) => 그룹1의 매칭된 문자열\n",
    "#.group(2) => 그룹2의 매칭된 문자열\n",
    "#.group() => 매칭된 문자열을 한꺼번에 반환(그룹 안된것도 포함)\n",
    "\n",
    "    "
   ]
  }
 ],
 "metadata": {
  "kernelspec": {
   "display_name": "Python 3",
   "language": "python",
   "name": "python3"
  },
  "language_info": {
   "codemirror_mode": {
    "name": "ipython",
    "version": 3
   },
   "file_extension": ".py",
   "mimetype": "text/x-python",
   "name": "python",
   "nbconvert_exporter": "python",
   "pygments_lexer": "ipython3",
   "version": "3.7.6"
  }
 },
 "nbformat": 4,
 "nbformat_minor": 4
}
