{
 "cells": [
  {
   "cell_type": "code",
   "execution_count": 1,
   "metadata": {
    "colab": {
     "base_uri": "https://localhost:8080/",
     "height": 70
    },
    "colab_type": "code",
    "id": "2-ooGtxw_LJ2",
    "outputId": "b52756df-9ae4-4274-fc3b-1b525e119231"
   },
   "outputs": [
    {
     "name": "stdout",
     "output_type": "stream",
     "text": [
      "[nltk_data] Downloading package punkt to /root/nltk_data...\n",
      "[nltk_data]   Unzipping tokenizers/punkt.zip.\n"
     ]
    },
    {
     "data": {
      "text/plain": [
       "True"
      ]
     },
     "execution_count": 1,
     "metadata": {
      "tags": []
     },
     "output_type": "execute_result"
    }
   ],
   "source": [
    "import nltk\n",
    "\n",
    "nltk.download('punkt')"
   ]
  },
  {
   "cell_type": "code",
   "execution_count": 3,
   "metadata": {
    "colab": {
     "base_uri": "https://localhost:8080/",
     "height": 758
    },
    "colab_type": "code",
    "id": "zBDbUbG7_Q5a",
    "outputId": "c57933d9-0e29-47a1-e88d-434b448c8544"
   },
   "outputs": [
    {
     "name": "stdout",
     "output_type": "stream",
     "text": [
      "Collecting kss\n",
      "  Downloading https://files.pythonhosted.org/packages/fc/bb/4772901b3b934ac204f32a0bd6fc0567871d8378f9bbc7dd5fd5e16c6ee7/kss-1.3.1.tar.gz\n",
      "Building wheels for collected packages: kss\n",
      "  Building wheel for kss (setup.py) ... \u001b[?25l\u001b[?25hdone\n",
      "  Created wheel for kss: filename=kss-1.3.1-cp36-cp36m-linux_x86_64.whl size=251544 sha256=d52169a79463b460196f3205ae73782b02848a0474ddef4a9bfd408666496db8\n",
      "  Stored in directory: /root/.cache/pip/wheels/8b/98/d1/53f75f89925cd95779824778725ee3fa36e7aa55ed26ad54a8\n",
      "Successfully built kss\n",
      "Installing collected packages: kss\n",
      "Successfully installed kss-1.3.1\n",
      "Collecting konlpy\n",
      "\u001b[?25l  Downloading https://files.pythonhosted.org/packages/85/0e/f385566fec837c0b83f216b2da65db9997b35dd675e107752005b7d392b1/konlpy-0.5.2-py2.py3-none-any.whl (19.4MB)\n",
      "\u001b[K     |████████████████████████████████| 19.4MB 1.4MB/s \n",
      "\u001b[?25hCollecting colorama\n",
      "  Downloading https://files.pythonhosted.org/packages/c9/dc/45cdef1b4d119eb96316b3117e6d5708a08029992b2fee2c143c7a0a5cc5/colorama-0.4.3-py2.py3-none-any.whl\n",
      "Requirement already satisfied: numpy>=1.6 in /usr/local/lib/python3.6/dist-packages (from konlpy) (1.18.5)\n",
      "Collecting beautifulsoup4==4.6.0\n",
      "\u001b[?25l  Downloading https://files.pythonhosted.org/packages/9e/d4/10f46e5cfac773e22707237bfcd51bbffeaf0a576b0a847ec7ab15bd7ace/beautifulsoup4-4.6.0-py3-none-any.whl (86kB)\n",
      "\u001b[K     |████████████████████████████████| 92kB 9.7MB/s \n",
      "\u001b[?25hCollecting JPype1>=0.7.0\n",
      "\u001b[?25l  Downloading https://files.pythonhosted.org/packages/2d/9b/e115101a833605b3c0e6f3a2bc1f285c95aaa1d93ab808314ca1bde63eed/JPype1-0.7.5-cp36-cp36m-manylinux2010_x86_64.whl (3.6MB)\n",
      "\u001b[K     |████████████████████████████████| 3.6MB 41.9MB/s \n",
      "\u001b[?25hRequirement already satisfied: lxml>=4.1.0 in /usr/local/lib/python3.6/dist-packages (from konlpy) (4.2.6)\n",
      "Collecting tweepy>=3.7.0\n",
      "  Downloading https://files.pythonhosted.org/packages/bb/7c/99d51f80f3b77b107ebae2634108717362c059a41384a1810d13e2429a81/tweepy-3.9.0-py2.py3-none-any.whl\n",
      "Requirement already satisfied: requests[socks]>=2.11.1 in /usr/local/lib/python3.6/dist-packages (from tweepy>=3.7.0->konlpy) (2.23.0)\n",
      "Requirement already satisfied: six>=1.10.0 in /usr/local/lib/python3.6/dist-packages (from tweepy>=3.7.0->konlpy) (1.12.0)\n",
      "Requirement already satisfied: requests-oauthlib>=0.7.0 in /usr/local/lib/python3.6/dist-packages (from tweepy>=3.7.0->konlpy) (1.3.0)\n",
      "Requirement already satisfied: idna<3,>=2.5 in /usr/local/lib/python3.6/dist-packages (from requests[socks]>=2.11.1->tweepy>=3.7.0->konlpy) (2.10)\n",
      "Requirement already satisfied: urllib3!=1.25.0,!=1.25.1,<1.26,>=1.21.1 in /usr/local/lib/python3.6/dist-packages (from requests[socks]>=2.11.1->tweepy>=3.7.0->konlpy) (1.24.3)\n",
      "Requirement already satisfied: certifi>=2017.4.17 in /usr/local/lib/python3.6/dist-packages (from requests[socks]>=2.11.1->tweepy>=3.7.0->konlpy) (2020.6.20)\n",
      "Requirement already satisfied: chardet<4,>=3.0.2 in /usr/local/lib/python3.6/dist-packages (from requests[socks]>=2.11.1->tweepy>=3.7.0->konlpy) (3.0.4)\n",
      "Requirement already satisfied: PySocks!=1.5.7,>=1.5.6; extra == \"socks\" in /usr/local/lib/python3.6/dist-packages (from requests[socks]>=2.11.1->tweepy>=3.7.0->konlpy) (1.7.1)\n",
      "Requirement already satisfied: oauthlib>=3.0.0 in /usr/local/lib/python3.6/dist-packages (from requests-oauthlib>=0.7.0->tweepy>=3.7.0->konlpy) (3.1.0)\n",
      "Installing collected packages: colorama, beautifulsoup4, JPype1, tweepy, konlpy\n",
      "  Found existing installation: beautifulsoup4 4.6.3\n",
      "    Uninstalling beautifulsoup4-4.6.3:\n",
      "      Successfully uninstalled beautifulsoup4-4.6.3\n",
      "  Found existing installation: tweepy 3.6.0\n",
      "    Uninstalling tweepy-3.6.0:\n",
      "      Successfully uninstalled tweepy-3.6.0\n",
      "Successfully installed JPype1-0.7.5 beautifulsoup4-4.6.0 colorama-0.4.3 konlpy-0.5.2 tweepy-3.9.0\n"
     ]
    }
   ],
   "source": [
    "!pip install kss\n",
    "!pip install konlpy\n"
   ]
  },
  {
   "cell_type": "code",
   "execution_count": 7,
   "metadata": {
    "colab": {
     "base_uri": "https://localhost:8080/",
     "height": 54
    },
    "colab_type": "code",
    "id": "UB2lqt3N_dKU",
    "outputId": "8c97b0e2-b83b-4061-9c38-d00968cb4685"
   },
   "outputs": [
    {
     "name": "stdout",
     "output_type": "stream",
     "text": [
      "['Start', \"'with\", 'more', 'than', 'a', 'blinking', 'cursor', 'Kaggle', 'offers', 'a', 'no-setup', ',', 'customizable', ',', 'Jupyter', 'Notebooks', 'environment', '.', 'Access', 'free', 'GPUs', 'and', 'a', 'huge', 'repository', 'of', 'community', 'published', 'data', '&', 'code', '.']\n"
     ]
    }
   ],
   "source": [
    "from nltk.tokenize import word_tokenize # 가장 기본적인 워드 모델\n",
    "\n",
    "text = \"\"\"\n",
    "Start 'with more than a blinking cursor\n",
    "Kaggle offers a no-setup, customizable, Jupyter Notebooks environment.\n",
    " Access free GPUs and a huge repository of community published data & code.\n",
    " \"\"\"\n",
    "\n",
    "print(word_tokenize(text)) # 구두점 포함 분리"
   ]
  },
  {
   "cell_type": "code",
   "execution_count": null,
   "metadata": {
    "colab": {},
    "colab_type": "code",
    "id": "1K2BDD1TCvwA"
   },
   "outputs": [],
   "source": [
    "import re\n",
    "\n",
    "p = re.compile(r'(.+\\s)')"
   ]
  },
  {
   "cell_type": "code",
   "execution_count": 8,
   "metadata": {
    "colab": {
     "base_uri": "https://localhost:8080/",
     "height": 54
    },
    "colab_type": "code",
    "id": "Y9muUO0-ATqt",
    "outputId": "842d0037-6938-46c0-dd1b-a27aadb5db81"
   },
   "outputs": [
    {
     "name": "stdout",
     "output_type": "stream",
     "text": [
      "['Start', \"'\", 'with', 'more', 'than', 'a', 'blinking', 'cursor', 'Kaggle', 'offers', 'a', 'no', '-', 'setup', ',', 'customizable', ',', 'Jupyter', 'Notebooks', 'environment', '.', 'Access', 'free', 'GPUs', 'and', 'a', 'huge', 'repository', 'of', 'community', 'published', 'data', '&', 'code', '.']\n"
     ]
    }
   ],
   "source": [
    "from nltk.tokenize import WordPunctTokenizer\n",
    "\n",
    "print(WordPunctTokenizer().tokenize(text)) #구두점까지 분리"
   ]
  },
  {
   "cell_type": "code",
   "execution_count": 10,
   "metadata": {
    "colab": {
     "base_uri": "https://localhost:8080/",
     "height": 54
    },
    "colab_type": "code",
    "id": "A4TeB-zPBPeL",
    "outputId": "5566f42e-4a28-4eee-e7eb-8f5450d47148"
   },
   "outputs": [
    {
     "name": "stdout",
     "output_type": "stream",
     "text": [
      "['Start', \"'with\", 'more', 'than', 'a', 'blinking', 'cursor', 'Kaggle', 'offers', 'a', 'no-setup', ',', 'customizable', ',', 'Jupyter', 'Notebooks', 'environment.', 'Access', 'free', 'GPUs', 'and', 'a', 'huge', 'repository', 'of', 'community', 'published', 'data', '&', 'code', '.']\n"
     ]
    }
   ],
   "source": [
    "from nltk.tokenize import TreebankWordTokenizer\n",
    "\n",
    "print(TreebankWordTokenizer().tokenize(text)) # "
   ]
  },
  {
   "cell_type": "code",
   "execution_count": 14,
   "metadata": {
    "colab": {
     "base_uri": "https://localhost:8080/",
     "height": 72
    },
    "colab_type": "code",
    "id": "knUdrTB4Bwk4",
    "outputId": "b567b392-4e21-4173-9d66-6e067ac99fa7"
   },
   "outputs": [
    {
     "name": "stdout",
     "output_type": "stream",
     "text": [
      "['Start']\n",
      "['Start', 'with', 'more', 'than', 'a', 'blinking', 'cursor', 'Kaggle', 'offers', 'a', 'no', 'setup', 'customizable', 'Jupyter', 'Notebooks', 'environment', 'Access', 'free', 'GPUs', 'and', 'a', 'huge', 'repository', 'of', 'community', 'published', 'data', 'code']\n"
     ]
    }
   ],
   "source": [
    "from nltk.tokenize import RegexpTokenizer\n",
    "\n",
    "print(RegexpTokenizer('Start').tokenize(text)) # ''안의 단어를 기준으로 분리\n",
    "print(RegexpTokenizer('\\w+').tokenize(text))"
   ]
  },
  {
   "cell_type": "code",
   "execution_count": 15,
   "metadata": {
    "colab": {
     "base_uri": "https://localhost:8080/",
     "height": 54
    },
    "colab_type": "code",
    "id": "Kni7cKDXCQ1k",
    "outputId": "21d9c1d3-21c3-44d6-ff90-191522238179"
   },
   "outputs": [
    {
     "name": "stdout",
     "output_type": "stream",
     "text": [
      "[\"\\nStart 'with more than a blinking cursor\\nKaggle offers a no-setup, customizable, Jupyter Notebooks environment.\", 'Access free GPUs and a huge repository of community published data & code.']\n"
     ]
    }
   ],
   "source": [
    "from nltk.tokenize import sent_tokenize # 문장마다 나눈다.\n",
    "\n",
    "print(sent_tokenize(text))"
   ]
  },
  {
   "cell_type": "code",
   "execution_count": 18,
   "metadata": {
    "colab": {
     "base_uri": "https://localhost:8080/",
     "height": 54
    },
    "colab_type": "code",
    "id": "QkRVGVXaDeOj",
    "outputId": "25f9f7e0-e89d-4e9f-82d3-183fa92639b7"
   },
   "outputs": [
    {
     "name": "stdout",
     "output_type": "stream",
     "text": [
      "['안녕', '하', '세요', '?', '저', '는', '이상', '훈', '이', '라고', '하', 'ㅂ니다', '.']\n"
     ]
    }
   ],
   "source": [
    "from konlpy.tag import Okt, Kkma\n",
    "\n",
    "ktext = \"안녕하세요? 저는 이상훈이라고 합니다.\"\n",
    "print(Kkma().morphs(ktext))"
   ]
  },
  {
   "cell_type": "code",
   "execution_count": 20,
   "metadata": {
    "colab": {
     "base_uri": "https://localhost:8080/",
     "height": 34
    },
    "colab_type": "code",
    "id": "xVKQp7ruENa4",
    "outputId": "2db495fa-2751-4e20-c09e-a8706900f301"
   },
   "outputs": [
    {
     "name": "stdout",
     "output_type": "stream",
     "text": [
      "['안녕하세요?', '저는 이상훈이라고 합니다.']\n"
     ]
    }
   ],
   "source": [
    "import kss\n",
    "\n",
    "print(kss.split_sentences(ktext))"
   ]
  },
  {
   "cell_type": "code",
   "execution_count": 24,
   "metadata": {
    "colab": {
     "base_uri": "https://localhost:8080/",
     "height": 580
    },
    "colab_type": "code",
    "id": "6-BaOMd0FHwc",
    "outputId": "07f05052-18fa-4e2d-a2a8-b8dd96c4163c"
   },
   "outputs": [
    {
     "name": "stdout",
     "output_type": "stream",
     "text": [
      "start\n",
      "'with\n",
      "more\n",
      "than\n",
      "a\n",
      "blink\n",
      "cursor\n",
      "kaggl\n",
      "offer\n",
      "a\n",
      "no-setup\n",
      ",\n",
      "customiz\n",
      ",\n",
      "jupyt\n",
      "notebook\n",
      "environ\n",
      ".\n",
      "access\n",
      "free\n",
      "gpu\n",
      "and\n",
      "a\n",
      "huge\n",
      "repositori\n",
      "of\n",
      "commun\n",
      "publish\n",
      "data\n",
      "&\n",
      "code\n",
      ".\n"
     ]
    }
   ],
   "source": [
    "from nltk.stem import PorterStemmer\n",
    "\n",
    "\n",
    "words = word_tokenize(text)   # 어간과 어미를 나눈다.\n",
    "for word in words:\n",
    "    print(PorterStemmer().stem(word))"
   ]
  },
  {
   "cell_type": "code",
   "execution_count": 25,
   "metadata": {
    "colab": {
     "base_uri": "https://localhost:8080/",
     "height": 70
    },
    "colab_type": "code",
    "id": "BaqP5kNbFw42",
    "outputId": "4d64647d-30af-4640-89e5-361d420c6b1b"
   },
   "outputs": [
    {
     "name": "stdout",
     "output_type": "stream",
     "text": [
      "[nltk_data] Downloading package stopwords to /root/nltk_data...\n",
      "[nltk_data]   Unzipping corpora/stopwords.zip.\n"
     ]
    },
    {
     "data": {
      "text/plain": [
       "True"
      ]
     },
     "execution_count": 25,
     "metadata": {
      "tags": []
     },
     "output_type": "execute_result"
    }
   ],
   "source": [
    "nltk.download('stopwords')"
   ]
  },
  {
   "cell_type": "code",
   "execution_count": 34,
   "metadata": {
    "colab": {
     "base_uri": "https://localhost:8080/",
     "height": 90
    },
    "colab_type": "code",
    "id": "jsyUL6OQF8CE",
    "outputId": "a2227eb0-3d65-4825-ab3b-16997fb1e69c"
   },
   "outputs": [
    {
     "name": "stdout",
     "output_type": "stream",
     "text": [
      "['i', 'me', 'my', 'myself', 'we', 'our', 'ours', 'ourselves', 'you', \"you're\", \"you've\", \"you'll\", \"you'd\", 'your', 'yours', 'yourself', 'yourselves', 'he', 'him', 'his', 'himself', 'she', \"she's\", 'her', 'hers', 'herself', 'it', \"it's\", 'its', 'itself', 'they', 'them', 'their', 'theirs', 'themselves', 'what', 'which', 'who', 'whom', 'this', 'that', \"that'll\", 'these', 'those', 'am', 'is', 'are', 'was', 'were', 'be', 'been', 'being', 'have', 'has', 'had', 'having', 'do', 'does', 'did', 'doing', 'a', 'an', 'the', 'and', 'but', 'if', 'or', 'because', 'as', 'until', 'while', 'of', 'at', 'by', 'for', 'with', 'about', 'against', 'between', 'into', 'through', 'during', 'before', 'after', 'above', 'below', 'to', 'from', 'up', 'down', 'in', 'out', 'on', 'off', 'over', 'under', 'again', 'further', 'then', 'once', 'here', 'there', 'when', 'where', 'why', 'how', 'all', 'any', 'both', 'each', 'few', 'more', 'most', 'other', 'some', 'such', 'no', 'nor', 'not', 'only', 'own', 'same', 'so', 'than', 'too', 'very', 's', 't', 'can', 'will', 'just', 'don', \"don't\", 'should', \"should've\", 'now', 'd', 'll', 'm', 'o', 're', 've', 'y', 'ain', 'aren', \"aren't\", 'couldn', \"couldn't\", 'didn', \"didn't\", 'doesn', \"doesn't\", 'hadn', \"hadn't\", 'hasn', \"hasn't\", 'haven', \"haven't\", 'isn', \"isn't\", 'ma', 'mightn', \"mightn't\", 'mustn', \"mustn't\", 'needn', \"needn't\", 'shan', \"shan't\", 'shouldn', \"shouldn't\", 'wasn', \"wasn't\", 'weren', \"weren't\", 'won', \"won't\", 'wouldn', \"wouldn't\"]\n",
      "['Start', \"'with\", 'more', 'than', 'a', 'blinking', 'cursor', 'Kaggle', 'offers', 'a', 'no-setup', ',', 'customizable', ',', 'Jupyter', 'Notebooks', 'environment', '.', 'Access', 'free', 'GPUs', 'and', 'a', 'huge', 'repository', 'of', 'community', 'published', 'data', '&', 'code', '.']\n",
      "['Start', \"'with\", 'blinking', 'cursor', 'Kaggle', 'offers', 'no-setup', ',', 'customizable', ',', 'Jupyter', 'Notebooks', 'environment', '.', 'Access', 'free', 'GPUs', 'huge', 'repository', 'community', 'published', 'data', '&', 'code', '.']\n"
     ]
    }
   ],
   "source": [
    "from nltk.corpus import stopwords\n",
    "\n",
    "sw = stopwords.words('english') # stopwords를 지우면 정확도가 낮아질 수 있기 때문에 필요한 리스트를 만들어서 사용하는 것이 바람직한다.\n",
    "\n",
    "print(sw)\n",
    "print(words)\n",
    "# sw = stopwords.words('korean')\n",
    "# print(sw)\n",
    "\n",
    "new = []\n",
    "for word in words:\n",
    "    if word.lower() not in sw:\n",
    "        new.append(word)\n",
    "    \n",
    "        \n",
    "\n",
    "print(new)\n"
   ]
  },
  {
   "cell_type": "code",
   "execution_count": 39,
   "metadata": {
    "colab": {
     "base_uri": "https://localhost:8080/",
     "height": 54
    },
    "colab_type": "code",
    "id": "Us5M8rh0GpYV",
    "outputId": "01a45b8f-1ee2-445a-fe3c-eda67cde7e12"
   },
   "outputs": [
    {
     "name": "stdout",
     "output_type": "stream",
     "text": [
      "Counter({',': 2, '.': 2, 'Start': 1, \"'with\": 1, 'blinking': 1, 'cursor': 1, 'Kaggle': 1, 'offers': 1, 'no-setup': 1, 'customizable': 1, 'Jupyter': 1, 'Notebooks': 1, 'environment': 1, 'Access': 1, 'free': 1, 'GPUs': 1, 'huge': 1, 'repository': 1, 'community': 1, 'published': 1, 'data': 1, '&': 1, 'code': 1})\n"
     ]
    }
   ],
   "source": [
    "from collections import Counter\n",
    "\n",
    "count_list = Counter(new) # 문장안에 어떤 단어가 얼마나 많이 있는지 표시\n",
    "print(count_list)"
   ]
  },
  {
   "cell_type": "code",
   "execution_count": 41,
   "metadata": {
    "colab": {
     "base_uri": "https://localhost:8080/",
     "height": 72
    },
    "colab_type": "code",
    "id": "_RHll9ARJYYA",
    "outputId": "0b8e4676-64cd-4762-d86d-74b8adf07998"
   },
   "outputs": [
    {
     "name": "stdout",
     "output_type": "stream",
     "text": [
      "[(',', 2), ('.', 2), ('Start', 1), (\"'with\", 1), ('blinking', 1), ('cursor', 1), ('Kaggle', 1), ('offers', 1), ('no-setup', 1), ('customizable', 1)]\n",
      "{',': 0, '.': 1, 'Start': 2, \"'with\": 3, 'blinking': 4, 'cursor': 5, 'Kaggle': 6, 'offers': 7, 'no-setup': 8, 'customizable': 9}\n"
     ]
    }
   ],
   "source": [
    "common_c1 = count_list.most_common(10) # 10개 짜리 튜플리스트를 만든다.\n",
    "print(common_c1)\n",
    "\n"
   ]
  },
  {
   "cell_type": "code",
   "execution_count": 45,
   "metadata": {
    "colab": {
     "base_uri": "https://localhost:8080/",
     "height": 54
    },
    "colab_type": "code",
    "id": "tD6tG1Z-K59j",
    "outputId": "ee1858f7-f41a-4e84-e1d8-e7abaff7599e"
   },
   "outputs": [
    {
     "name": "stdout",
     "output_type": "stream",
     "text": [
      "{',': 1, '.': 2, 'Start': 3, \"'with\": 4, 'blinking': 5, 'cursor': 6, 'Kaggle': 7, 'offers': 8, 'no-setup': 9, 'customizable': 10}\n"
     ]
    }
   ],
   "source": [
    "# 중요도 순으로 index부여하기(가장 앞이 1, 끝이 n)\n",
    "\n",
    "common_c1_dict = {} #빈 딕셔너리 하나 생성\n",
    "i = 0\n",
    "for (key, value) in common_c1:\n",
    "    common_c1_dict[key] = i+1\n",
    "    i += 1\n",
    "\n",
    "print(common_c1_dict)"
   ]
  }
 ],
 "metadata": {
  "colab": {
   "name": "자연어처리0716.ipynb",
   "provenance": []
  },
  "kernelspec": {
   "display_name": "Python 3",
   "language": "python",
   "name": "python3"
  },
  "language_info": {
   "codemirror_mode": {
    "name": "ipython",
    "version": 3
   },
   "file_extension": ".py",
   "mimetype": "text/x-python",
   "name": "python",
   "nbconvert_exporter": "python",
   "pygments_lexer": "ipython3",
   "version": "3.7.6"
  }
 },
 "nbformat": 4,
 "nbformat_minor": 1
}
