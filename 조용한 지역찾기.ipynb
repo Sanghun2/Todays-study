{
 "cells": [
  {
   "cell_type": "code",
   "execution_count": 65,
   "metadata": {},
   "outputs": [
    {
     "name": "stdout",
     "output_type": "stream",
     "text": [
      "공사장의 위치와 범위 : 20 10 10\n",
      "그늘의 수 : 3\n",
      "그늘의 위치25 10\n",
      "그늘의 위치20 15\n",
      "그늘의 위치70 70\n",
      "noisy\n",
      "25 100\n",
      "noisy\n",
      "25 100\n",
      "silent\n",
      "6100 100\n"
     ]
    }
   ],
   "source": [
    "#입력값 검증하기\n",
    "\n",
    "list_WorkPlace = list(input(\"공사장의 위치와 범위 : \").split())\n",
    "\n",
    "list_WorkPlace = list(map(int, list_WorkPlace))\n",
    "# print(list_WorkPlace)\n",
    "\n",
    "num_of_place = int(input(\"그늘의 수 : \"))\n",
    "location = []\n",
    "a = \"\"\n",
    "\n",
    "for n in range(num_of_place):\n",
    "    a = list(input(\"그늘의 위치\").split(' '))    \n",
    "    location.append(a)\n",
    "    \n",
    "def compare(list_WorkPlace, location):\n",
    "    res = 0\n",
    "    for i in range(num_of_place):\n",
    "            res = (list_WorkPlace[0] - int(location[i][0]))**2 + (list_WorkPlace[1] - int(location[i][1]))**2\n",
    "            if res <= (list_WorkPlace[2]**2):\n",
    "                print(\"noisy\")\n",
    "            else:\n",
    "                print(\"silent\")\n",
    "#             print(res, list_WorkPlace[2]**2)\n",
    "\n",
    "compare(list_WorkPlace, location)\n"
   ]
  },
  {
   "cell_type": "code",
   "execution_count": 37,
   "metadata": {},
   "outputs": [
    {
     "ename": "SyntaxError",
     "evalue": "invalid syntax (<ipython-input-37-0e343e3de21d>, line 7)",
     "output_type": "error",
     "traceback": [
      "\u001b[1;36m  File \u001b[1;32m\"<ipython-input-37-0e343e3de21d>\"\u001b[1;36m, line \u001b[1;32m7\u001b[0m\n\u001b[1;33m    location.append(a)\u001b[0m\n\u001b[1;37m           ^\u001b[0m\n\u001b[1;31mSyntaxError\u001b[0m\u001b[1;31m:\u001b[0m invalid syntax\n"
     ]
    }
   ],
   "source": [
    "num_of_place = int(input(\"그늘의 수 : \"))\n",
    "location = []\n",
    "a = \"\"\n",
    "\n",
    "for n in range(num_of_place):\n",
    "    a = list(input(\"그늘의 위치\").split(' ')\n",
    "    location.append(a)"
   ]
  }
 ],
 "metadata": {
  "kernelspec": {
   "display_name": "Python 3",
   "language": "python",
   "name": "python3"
  },
  "language_info": {
   "codemirror_mode": {
    "name": "ipython",
    "version": 3
   },
   "file_extension": ".py",
   "mimetype": "text/x-python",
   "name": "python",
   "nbconvert_exporter": "python",
   "pygments_lexer": "ipython3",
   "version": "3.7.6"
  }
 },
 "nbformat": 4,
 "nbformat_minor": 4
}
