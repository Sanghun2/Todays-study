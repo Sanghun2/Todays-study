{
 "cells": [
  {
   "cell_type": "markdown",
   "metadata": {},
   "source": [
    "# 웹 프로그래밍을 들어가며...\n",
    "\n",
    "웹이란 것은 많이 들어보기만 했지 사실 뭐로 구성되어 있고 어떻게 돌아가는 지는 거의 알지 못한다."
   ]
  },
  {
   "cell_type": "markdown",
   "metadata": {},
   "source": [
    "# 웹\n",
    "\n",
    "### 인터넷\n",
    "인터넷이란 인터 네트워크의 줄임말이다.\n",
    "이것은 네트워크들의 네트워크.\n",
    "즉, 컴퓨터들이 연결이 되어있는 것이다.\n",
    "연결은 웹의 시작이다.\n",
    "\n",
    "### Javascript\n",
    "인터렉션이 있다면 무조건 자바스크립트가 들어간다.\n",
    "거의 모든 앱에 들어감.\n",
    "\n",
    "### 웹이 동작하는 방식\n",
    "<br><br>\n",
    "모든 것은 request와 reponse로 이뤄진다.  \n",
    "웹에서 하는 모든 행동(검색창에 단어 입력, 검색버튼 누르기 등,,)은 request가 되어 서버로 전송되고 서버에서는 그에대한 response를 전송한다. 이것이 웹이 동작하는 방식이다.  \n",
    "개발자도구의 network를 보면 검색창에 뭔가를 치면 시시각각 리퀘스트와 리스폰스를 볼 수 있다.  \n",
    "푸시알람 같은 경우는 예약된 리퀘스트\n",
    "<br><br>\n",
    "### 프론트 엔드\n",
    "HTML/CSS  \n",
    "Javascropt\n",
    "\n",
    "### 백엔드\n",
    "\n",
    "### 웹동작 심화\n",
    "HTTP 프로토콜\n",
    "> 정해진 리퀘스트의 양식과 리스폰스로 웹이 동작하는데 이 규칙을 프로토콜이라고 한다.\n",
    "HTTP와 HTTPS는 프로토콜의 한 종류다.\n",
    "\n",
    "URL\n",
    ">서버에 자원을 요청하기 위한 주소.  \n",
    "IP보다 식별하기가 쉬워서 사용..  \n",
    "ex} http://localhost:8889/notebooks/ALSCHOOL/Todays-study/%EC%98%A4%EB%8A%98%EC%9D%98%20%EA%B3%B5%EB%B6%800713%20-%20%EC%9B%B9%20%EC%95%A0%ED%94%8C%EB%A6%AC%EC%BC%80%EC%9D%B4%EC%85%98.ipynb\n",
    "URL에 요청을 보내기도 한다.  \n",
    "하지만 개인정보 같은것은 URL로 보내면 보안문제 때문에 절대 안됨.\n",
    "\n",
    "HTTP request methods\n",
    "> 서버에 요청하는 방법을 약속한 것.\n",
    ">>Get : 서버에 존재하는 resourse를 요청\n",
    "Post : 서버에 개로운 resourse를 생성\n",
    "Put : 서버에 존재하는 resourse를 변경\n",
    "Delete : 서버에 존재하는 resourse를 삭제\n",
    "\n",
    "\n",
    "HTTP Status Code\n",
    "> 응답코드.  \n",
    "간단하게 통신하기 위해 만든 암호\n",
    ">> 2xx  \n",
    "3xx  \n",
    "4xx  \n",
    "5xx  \n",
    "\n",
    "\n"
   ]
  },
  {
   "cell_type": "markdown",
   "metadata": {},
   "source": [
    "# 웹 프로그래밍을 마치며..."
   ]
  }
 ],
 "metadata": {
  "kernelspec": {
   "display_name": "Python 3",
   "language": "python",
   "name": "python3"
  },
  "language_info": {
   "codemirror_mode": {
    "name": "ipython",
    "version": 3
   },
   "file_extension": ".py",
   "mimetype": "text/x-python",
   "name": "python",
   "nbconvert_exporter": "python",
   "pygments_lexer": "ipython3",
   "version": "3.7.6"
  }
 },
 "nbformat": 4,
 "nbformat_minor": 4
}
