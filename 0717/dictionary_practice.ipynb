{
 "cells": [
  {
   "cell_type": "code",
   "execution_count": 34,
   "metadata": {},
   "outputs": [
    {
     "name": "stdout",
     "output_type": "stream",
     "text": [
      "{'name': '서예지', 'age': '20'}\n",
      "{'name': '최준범', 'age': '20'}\n",
      "{'name': '고재증', 'age': '20'}\n",
      "{'name': '김의연', 'age': '20'}\n"
     ]
    }
   ],
   "source": [
    "ai_school = [\n",
    "    {\n",
    "        \"class_num\": 1,\n",
    "        \"students\": [\n",
    "            {\n",
    "                \"name\": \"서예지\",\n",
    "                \"age\": \"20\",\n",
    "            },\n",
    "            {\n",
    "                \"name\": \"최준범\",\n",
    "                \"age\": \"20\"\n",
    "            }\n",
    "        ]\n",
    "    },\n",
    "    {\n",
    "        \"class_num\": 2,\n",
    "        \"students\": [\n",
    "            {\n",
    "                \"name\": \"고재증\",\n",
    "                \"age\": \"20\"\n",
    "            },\n",
    "            {\n",
    "                \"name\": \"김의연\",\n",
    "                \"age\": \"20\"\n",
    "            }\n",
    "\n",
    "        ]\n",
    "    }\n",
    "]\n",
    "# 모든 학생의 이름과 나이 출력하기\n",
    "print(ai_school[0]['students'][0])\n",
    "print(ai_school[0]['students'][1])\n",
    "print(ai_school[1]['students'][0])\n",
    "print(ai_school[1]['students'][1])\n",
    " \n",
    "# 반복문으로 바꿔보기!"
   ]
  },
  {
   "cell_type": "code",
   "execution_count": 35,
   "metadata": {},
   "outputs": [
    {
     "name": "stdout",
     "output_type": "stream",
     "text": [
      "{'name': '서예지', 'age': '20'}\n",
      "{'name': '최준범', 'age': '20'}\n",
      "{'name': '고재증', 'age': '20'}\n",
      "{'name': '김의연', 'age': '20'}\n"
     ]
    }
   ],
   "source": [
    "for i in range(2):\n",
    "    for j in range(2):\n",
    "        print(ai_school[i]['students'][j])"
   ]
  }
 ],
 "metadata": {
  "kernelspec": {
   "display_name": "Python 3",
   "language": "python",
   "name": "python3"
  },
  "language_info": {
   "codemirror_mode": {
    "name": "ipython",
    "version": 3
   },
   "file_extension": ".py",
   "mimetype": "text/x-python",
   "name": "python",
   "nbconvert_exporter": "python",
   "pygments_lexer": "ipython3",
   "version": "3.7.6"
  }
 },
 "nbformat": 4,
 "nbformat_minor": 4
}
