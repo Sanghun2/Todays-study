{
 "cells": [
  {
   "cell_type": "code",
   "execution_count": 10,
   "metadata": {},
   "outputs": [],
   "source": [
    "import pandas as pd\n",
    "import numpy as np\n",
    "import os"
   ]
  },
  {
   "cell_type": "markdown",
   "metadata": {},
   "source": [
    "## 멀티인덱스"
   ]
  },
  {
   "cell_type": "code",
   "execution_count": 11,
   "metadata": {},
   "outputs": [
    {
     "data": {
      "text/plain": [
       "['G1', 'G1', 'G1', 'G2', 'G2', 'G2']"
      ]
     },
     "execution_count": 11,
     "metadata": {},
     "output_type": "execute_result"
    }
   ],
   "source": [
    "my_header = ['a','b','c']\n",
    "my_index_out = ['G1']*3 + ['G2']*3\n",
    "my_index_out"
   ]
  },
  {
   "cell_type": "code",
   "execution_count": 12,
   "metadata": {},
   "outputs": [
    {
     "data": {
      "text/plain": [
       "[1, 2, 3, 1, 2, 3]"
      ]
     },
     "execution_count": 12,
     "metadata": {},
     "output_type": "execute_result"
    }
   ],
   "source": [
    "my_index_in = [1,2,3]*2\n",
    "my_index_in"
   ]
  },
  {
   "cell_type": "markdown",
   "metadata": {},
   "source": [
    "1. zip함수를 사용하여 두 리스트를 합치고 멀티라인 인덱스로 만드세요. my_index"
   ]
  },
  {
   "cell_type": "code",
   "execution_count": null,
   "metadata": {},
   "outputs": [],
   "source": []
  },
  {
   "cell_type": "markdown",
   "metadata": {},
   "source": [
    "2. 멀티 인덱스 데이터프레임 구성 - 랜덤한 6by3 데이터프레임을 만들고 컬럼이 my_header, 인덱스가 my_index가 되도록 하세요."
   ]
  },
  {
   "cell_type": "code",
   "execution_count": null,
   "metadata": {},
   "outputs": [],
   "source": []
  },
  {
   "cell_type": "markdown",
   "metadata": {},
   "source": [
    "3. 가로방향으로 멀티 인덱스를 사용하여 데이터프레임을 구성하세요."
   ]
  },
  {
   "cell_type": "code",
   "execution_count": null,
   "metadata": {},
   "outputs": [],
   "source": []
  },
  {
   "cell_type": "markdown",
   "metadata": {},
   "source": [
    "4. G1에 포함된 데이터를 출력하세요."
   ]
  },
  {
   "cell_type": "code",
   "execution_count": null,
   "metadata": {},
   "outputs": [],
   "source": []
  },
  {
   "cell_type": "markdown",
   "metadata": {},
   "source": [
    "### groupby"
   ]
  },
  {
   "cell_type": "code",
   "execution_count": 13,
   "metadata": {},
   "outputs": [
    {
     "data": {
      "text/html": [
       "<div>\n",
       "<style scoped>\n",
       "    .dataframe tbody tr th:only-of-type {\n",
       "        vertical-align: middle;\n",
       "    }\n",
       "\n",
       "    .dataframe tbody tr th {\n",
       "        vertical-align: top;\n",
       "    }\n",
       "\n",
       "    .dataframe thead th {\n",
       "        text-align: right;\n",
       "    }\n",
       "</style>\n",
       "<table border=\"1\" class=\"dataframe\">\n",
       "  <thead>\n",
       "    <tr style=\"text-align: right;\">\n",
       "      <th></th>\n",
       "      <th>name</th>\n",
       "      <th>gender</th>\n",
       "      <th>age</th>\n",
       "      <th>grade</th>\n",
       "      <th>absence</th>\n",
       "      <th>bloodtype</th>\n",
       "      <th>height</th>\n",
       "      <th>weight</th>\n",
       "    </tr>\n",
       "  </thead>\n",
       "  <tbody>\n",
       "    <tr>\n",
       "      <th>0</th>\n",
       "      <td>Jared Diamond</td>\n",
       "      <td>M</td>\n",
       "      <td>23</td>\n",
       "      <td>3</td>\n",
       "      <td>Y</td>\n",
       "      <td>O</td>\n",
       "      <td>165.3</td>\n",
       "      <td>68.2</td>\n",
       "    </tr>\n",
       "    <tr>\n",
       "      <th>1</th>\n",
       "      <td>Sarah O'Donnel</td>\n",
       "      <td>F</td>\n",
       "      <td>22</td>\n",
       "      <td>2</td>\n",
       "      <td>N</td>\n",
       "      <td>AB</td>\n",
       "      <td>170.1</td>\n",
       "      <td>53.0</td>\n",
       "    </tr>\n",
       "    <tr>\n",
       "      <th>2</th>\n",
       "      <td>Brian Martin</td>\n",
       "      <td>M</td>\n",
       "      <td>24</td>\n",
       "      <td>4</td>\n",
       "      <td>N</td>\n",
       "      <td>B</td>\n",
       "      <td>175.0</td>\n",
       "      <td>80.1</td>\n",
       "    </tr>\n",
       "    <tr>\n",
       "      <th>3</th>\n",
       "      <td>David Hassel</td>\n",
       "      <td>M</td>\n",
       "      <td>23</td>\n",
       "      <td>3</td>\n",
       "      <td>N</td>\n",
       "      <td>AB</td>\n",
       "      <td>182.1</td>\n",
       "      <td>85.7</td>\n",
       "    </tr>\n",
       "    <tr>\n",
       "      <th>4</th>\n",
       "      <td>Clara Rodriquez</td>\n",
       "      <td>F</td>\n",
       "      <td>20</td>\n",
       "      <td>1</td>\n",
       "      <td>Y</td>\n",
       "      <td>A</td>\n",
       "      <td>168.0</td>\n",
       "      <td>49.5</td>\n",
       "    </tr>\n",
       "    <tr>\n",
       "      <th>5</th>\n",
       "      <td>Jennifer Lorentz</td>\n",
       "      <td>F</td>\n",
       "      <td>21</td>\n",
       "      <td>2</td>\n",
       "      <td>N</td>\n",
       "      <td>O</td>\n",
       "      <td>162.0</td>\n",
       "      <td>52.0</td>\n",
       "    </tr>\n",
       "    <tr>\n",
       "      <th>6</th>\n",
       "      <td>Susan Clark</td>\n",
       "      <td>F</td>\n",
       "      <td>22</td>\n",
       "      <td>1</td>\n",
       "      <td>N</td>\n",
       "      <td>O</td>\n",
       "      <td>155.2</td>\n",
       "      <td>45.3</td>\n",
       "    </tr>\n",
       "    <tr>\n",
       "      <th>7</th>\n",
       "      <td>Margareth Jones</td>\n",
       "      <td>F</td>\n",
       "      <td>23</td>\n",
       "      <td>1</td>\n",
       "      <td>N</td>\n",
       "      <td>A</td>\n",
       "      <td>176.9</td>\n",
       "      <td>55.0</td>\n",
       "    </tr>\n",
       "    <tr>\n",
       "      <th>8</th>\n",
       "      <td>John Bertsch</td>\n",
       "      <td>M</td>\n",
       "      <td>23</td>\n",
       "      <td>3</td>\n",
       "      <td>N</td>\n",
       "      <td>B</td>\n",
       "      <td>178.5</td>\n",
       "      <td>64.2</td>\n",
       "    </tr>\n",
       "    <tr>\n",
       "      <th>9</th>\n",
       "      <td>Jake Timmerman</td>\n",
       "      <td>M</td>\n",
       "      <td>22</td>\n",
       "      <td>2</td>\n",
       "      <td>N</td>\n",
       "      <td>B</td>\n",
       "      <td>176.1</td>\n",
       "      <td>61.3</td>\n",
       "    </tr>\n",
       "    <tr>\n",
       "      <th>10</th>\n",
       "      <td>Joshua Connor</td>\n",
       "      <td>M</td>\n",
       "      <td>24</td>\n",
       "      <td>4</td>\n",
       "      <td>Y</td>\n",
       "      <td>O</td>\n",
       "      <td>167.1</td>\n",
       "      <td>62.0</td>\n",
       "    </tr>\n",
       "    <tr>\n",
       "      <th>11</th>\n",
       "      <td>John Matsuda</td>\n",
       "      <td>M</td>\n",
       "      <td>22</td>\n",
       "      <td>2</td>\n",
       "      <td>N</td>\n",
       "      <td>AB</td>\n",
       "      <td>180.0</td>\n",
       "      <td>75.8</td>\n",
       "    </tr>\n",
       "    <tr>\n",
       "      <th>12</th>\n",
       "      <td>Eddy Johnson</td>\n",
       "      <td>M</td>\n",
       "      <td>21</td>\n",
       "      <td>1</td>\n",
       "      <td>N</td>\n",
       "      <td>A</td>\n",
       "      <td>162.2</td>\n",
       "      <td>55.3</td>\n",
       "    </tr>\n",
       "    <tr>\n",
       "      <th>13</th>\n",
       "      <td>Rebecah Anderson</td>\n",
       "      <td>F</td>\n",
       "      <td>23</td>\n",
       "      <td>3</td>\n",
       "      <td>N</td>\n",
       "      <td>O</td>\n",
       "      <td>176.1</td>\n",
       "      <td>53.1</td>\n",
       "    </tr>\n",
       "    <tr>\n",
       "      <th>14</th>\n",
       "      <td>Linda Carter</td>\n",
       "      <td>F</td>\n",
       "      <td>22</td>\n",
       "      <td>2</td>\n",
       "      <td>N</td>\n",
       "      <td>B</td>\n",
       "      <td>158.2</td>\n",
       "      <td>45.2</td>\n",
       "    </tr>\n",
       "    <tr>\n",
       "      <th>15</th>\n",
       "      <td>Richard Swayze</td>\n",
       "      <td>M</td>\n",
       "      <td>24</td>\n",
       "      <td>4</td>\n",
       "      <td>Y</td>\n",
       "      <td>B</td>\n",
       "      <td>168.6</td>\n",
       "      <td>70.2</td>\n",
       "    </tr>\n",
       "    <tr>\n",
       "      <th>16</th>\n",
       "      <td>Andrew Daley</td>\n",
       "      <td>M</td>\n",
       "      <td>21</td>\n",
       "      <td>1</td>\n",
       "      <td>N</td>\n",
       "      <td>A</td>\n",
       "      <td>169.2</td>\n",
       "      <td>62.2</td>\n",
       "    </tr>\n",
       "  </tbody>\n",
       "</table>\n",
       "</div>"
      ],
      "text/plain": [
       "                name gender  age  grade absence bloodtype  height  weight\n",
       "0      Jared Diamond      M   23      3       Y         O   165.3    68.2\n",
       "1     Sarah O'Donnel      F   22      2       N        AB   170.1    53.0\n",
       "2       Brian Martin      M   24      4       N         B   175.0    80.1\n",
       "3       David Hassel      M   23      3       N        AB   182.1    85.7\n",
       "4    Clara Rodriquez      F   20      1       Y         A   168.0    49.5\n",
       "5   Jennifer Lorentz      F   21      2       N         O   162.0    52.0\n",
       "6        Susan Clark      F   22      1       N         O   155.2    45.3\n",
       "7    Margareth Jones      F   23      1       N         A   176.9    55.0\n",
       "8       John Bertsch      M   23      3       N         B   178.5    64.2\n",
       "9     Jake Timmerman      M   22      2       N         B   176.1    61.3\n",
       "10     Joshua Connor      M   24      4       Y         O   167.1    62.0\n",
       "11      John Matsuda      M   22      2       N        AB   180.0    75.8\n",
       "12      Eddy Johnson      M   21      1       N         A   162.2    55.3\n",
       "13  Rebecah Anderson      F   23      3       N         O   176.1    53.1\n",
       "14      Linda Carter      F   22      2       N         B   158.2    45.2\n",
       "15    Richard Swayze      M   24      4       Y         B   168.6    70.2\n",
       "16      Andrew Daley      M   21      1       N         A   169.2    62.2"
      ]
     },
     "execution_count": 13,
     "metadata": {},
     "output_type": "execute_result"
    }
   ],
   "source": [
    "drive_path = r'c:/Apps/temp/data/'\n",
    "df = pd.read_csv(drive_path + 'data_studentlist_en.csv',header='infer',encoding = 'latin1')\n",
    "df"
   ]
  },
  {
   "cell_type": "markdown",
   "metadata": {},
   "source": [
    "1. 남성 키의 평균을 출력하세요."
   ]
  },
  {
   "cell_type": "code",
   "execution_count": null,
   "metadata": {},
   "outputs": [],
   "source": []
  },
  {
   "cell_type": "markdown",
   "metadata": {},
   "source": [
    "2. 여성 키의 평균을 출력하세요."
   ]
  },
  {
   "cell_type": "code",
   "execution_count": null,
   "metadata": {},
   "outputs": [],
   "source": []
  },
  {
   "cell_type": "markdown",
   "metadata": {},
   "source": [
    "3. 각 성별 키의 평균을 출력하세요."
   ]
  },
  {
   "cell_type": "code",
   "execution_count": null,
   "metadata": {},
   "outputs": [],
   "source": []
  },
  {
   "cell_type": "markdown",
   "metadata": {},
   "source": [
    "4. 각 성별 키와 몸무게의 평균을 출력하세요."
   ]
  },
  {
   "cell_type": "code",
   "execution_count": null,
   "metadata": {},
   "outputs": [],
   "source": []
  },
  {
   "cell_type": "markdown",
   "metadata": {},
   "source": [
    "5. 각 성별, 혈액형별 키와 몸무게의 평균을 출력하세요."
   ]
  },
  {
   "cell_type": "code",
   "execution_count": null,
   "metadata": {},
   "outputs": [],
   "source": []
  },
  {
   "cell_type": "markdown",
   "metadata": {},
   "source": [
    "6. 여성이면서 A형인 사람의 키와 몸무게의 평균을 출력하세요."
   ]
  },
  {
   "cell_type": "code",
   "execution_count": null,
   "metadata": {},
   "outputs": [],
   "source": []
  },
  {
   "cell_type": "markdown",
   "metadata": {},
   "source": [
    "7. 시리즈로 성별과 혈액형을 그룹화하고 키의 평균에 대해 출력하세요."
   ]
  },
  {
   "cell_type": "code",
   "execution_count": null,
   "metadata": {},
   "outputs": [],
   "source": []
  },
  {
   "cell_type": "markdown",
   "metadata": {},
   "source": [
    "8. 7의 데이터에서 6번의 키의 평균만 출력하세요."
   ]
  },
  {
   "cell_type": "code",
   "execution_count": null,
   "metadata": {},
   "outputs": [],
   "source": []
  },
  {
   "cell_type": "markdown",
   "metadata": {},
   "source": [
    "### method"
   ]
  },
  {
   "cell_type": "markdown",
   "metadata": {},
   "source": [
    "1. df의 height컬럼의 정보를 100으로 나누어 표현하세요.(lambda사용)"
   ]
  },
  {
   "cell_type": "code",
   "execution_count": null,
   "metadata": {},
   "outputs": [],
   "source": []
  },
  {
   "cell_type": "markdown",
   "metadata": {},
   "source": [
    "2. df데이터를 혈액형, 나이 순으로 정렬하세요. df1에 저장(혈액형은 오름차순, 나이는 내림차순)"
   ]
  },
  {
   "cell_type": "code",
   "execution_count": null,
   "metadata": {},
   "outputs": [],
   "source": []
  },
  {
   "cell_type": "markdown",
   "metadata": {},
   "source": [
    "3. 2번 데이터를 기존의 인덱스를 지우고 새로 나타내세요. df2에 저장"
   ]
  },
  {
   "cell_type": "code",
   "execution_count": null,
   "metadata": {},
   "outputs": [],
   "source": []
  },
  {
   "cell_type": "markdown",
   "metadata": {},
   "source": [
    "4. df의 키 데이터를 내림차순 정렬 후 기존의 인덱스를 새로운 인덱스로 나타내세요."
   ]
  },
  {
   "cell_type": "code",
   "execution_count": null,
   "metadata": {},
   "outputs": [],
   "source": []
  },
  {
   "cell_type": "markdown",
   "metadata": {},
   "source": [
    "5. df에 존재하는 혈액형의 갯수를 출력하세요."
   ]
  },
  {
   "cell_type": "code",
   "execution_count": null,
   "metadata": {},
   "outputs": [],
   "source": []
  },
  {
   "cell_type": "markdown",
   "metadata": {},
   "source": [
    "6. df의 혈액형 중 최빈값을 출력하세요."
   ]
  },
  {
   "cell_type": "code",
   "execution_count": null,
   "metadata": {},
   "outputs": [],
   "source": []
  },
  {
   "cell_type": "markdown",
   "metadata": {},
   "source": [
    "### pivot"
   ]
  },
  {
   "cell_type": "code",
   "execution_count": 14,
   "metadata": {},
   "outputs": [
    {
     "data": {
      "text/html": [
       "<div>\n",
       "<style scoped>\n",
       "    .dataframe tbody tr th:only-of-type {\n",
       "        vertical-align: middle;\n",
       "    }\n",
       "\n",
       "    .dataframe tbody tr th {\n",
       "        vertical-align: top;\n",
       "    }\n",
       "\n",
       "    .dataframe thead th {\n",
       "        text-align: right;\n",
       "    }\n",
       "</style>\n",
       "<table border=\"1\" class=\"dataframe\">\n",
       "  <thead>\n",
       "    <tr style=\"text-align: right;\">\n",
       "      <th></th>\n",
       "      <th>A</th>\n",
       "      <th>B</th>\n",
       "      <th>C</th>\n",
       "      <th>D</th>\n",
       "      <th>E</th>\n",
       "    </tr>\n",
       "  </thead>\n",
       "  <tbody>\n",
       "    <tr>\n",
       "      <th>0</th>\n",
       "      <td>foo</td>\n",
       "      <td>one</td>\n",
       "      <td>small</td>\n",
       "      <td>1</td>\n",
       "      <td>2</td>\n",
       "    </tr>\n",
       "    <tr>\n",
       "      <th>1</th>\n",
       "      <td>foo</td>\n",
       "      <td>one</td>\n",
       "      <td>large</td>\n",
       "      <td>2</td>\n",
       "      <td>4</td>\n",
       "    </tr>\n",
       "    <tr>\n",
       "      <th>2</th>\n",
       "      <td>foo</td>\n",
       "      <td>one</td>\n",
       "      <td>large</td>\n",
       "      <td>2</td>\n",
       "      <td>5</td>\n",
       "    </tr>\n",
       "    <tr>\n",
       "      <th>3</th>\n",
       "      <td>foo</td>\n",
       "      <td>two</td>\n",
       "      <td>small</td>\n",
       "      <td>3</td>\n",
       "      <td>5</td>\n",
       "    </tr>\n",
       "    <tr>\n",
       "      <th>4</th>\n",
       "      <td>foo</td>\n",
       "      <td>two</td>\n",
       "      <td>small</td>\n",
       "      <td>3</td>\n",
       "      <td>6</td>\n",
       "    </tr>\n",
       "    <tr>\n",
       "      <th>5</th>\n",
       "      <td>bar</td>\n",
       "      <td>one</td>\n",
       "      <td>large</td>\n",
       "      <td>4</td>\n",
       "      <td>6</td>\n",
       "    </tr>\n",
       "    <tr>\n",
       "      <th>6</th>\n",
       "      <td>bar</td>\n",
       "      <td>one</td>\n",
       "      <td>small</td>\n",
       "      <td>5</td>\n",
       "      <td>8</td>\n",
       "    </tr>\n",
       "    <tr>\n",
       "      <th>7</th>\n",
       "      <td>bar</td>\n",
       "      <td>two</td>\n",
       "      <td>small</td>\n",
       "      <td>6</td>\n",
       "      <td>9</td>\n",
       "    </tr>\n",
       "    <tr>\n",
       "      <th>8</th>\n",
       "      <td>bar</td>\n",
       "      <td>two</td>\n",
       "      <td>large</td>\n",
       "      <td>7</td>\n",
       "      <td>9</td>\n",
       "    </tr>\n",
       "  </tbody>\n",
       "</table>\n",
       "</div>"
      ],
      "text/plain": [
       "     A    B      C  D  E\n",
       "0  foo  one  small  1  2\n",
       "1  foo  one  large  2  4\n",
       "2  foo  one  large  2  5\n",
       "3  foo  two  small  3  5\n",
       "4  foo  two  small  3  6\n",
       "5  bar  one  large  4  6\n",
       "6  bar  one  small  5  8\n",
       "7  bar  two  small  6  9\n",
       "8  bar  two  large  7  9"
      ]
     },
     "execution_count": 14,
     "metadata": {},
     "output_type": "execute_result"
    }
   ],
   "source": [
    "df = pd.DataFrame({\"A\": [\"foo\", \"foo\", \"foo\", \"foo\", \"foo\",\n",
    "                          \"bar\", \"bar\", \"bar\", \"bar\"],\n",
    "                    \"B\": [\"one\", \"one\", \"one\", \"two\", \"two\",\n",
    "                          \"one\", \"one\", \"two\", \"two\"],\n",
    "                    \"C\": [\"small\", \"large\", \"large\", \"small\",\n",
    "                          \"small\", \"large\", \"small\", \"small\",\n",
    "                          \"large\"],\n",
    "                    \"D\": [1, 2, 2, 3, 3, 4, 5, 6, 7],\n",
    "                    \"E\": [2, 4, 5, 5, 6, 6, 8, 9, 9]})\n",
    "df"
   ]
  },
  {
   "cell_type": "markdown",
   "metadata": {},
   "source": [
    "1. A,B의 값으로 인덱스, C의 값으로 컬럼, 셀에 들어가는 값은 E의 평균으로 출력하세요. dfr"
   ]
  },
  {
   "cell_type": "code",
   "execution_count": null,
   "metadata": {},
   "outputs": [],
   "source": []
  },
  {
   "cell_type": "markdown",
   "metadata": {},
   "source": [
    "2. 1번의 table에서 결측치를 0으로 채우세요."
   ]
  },
  {
   "cell_type": "code",
   "execution_count": null,
   "metadata": {},
   "outputs": [],
   "source": []
  },
  {
   "cell_type": "markdown",
   "metadata": {},
   "source": [
    "3. 2번의 table에서 데이터를 중앙값으로 바꾸세요."
   ]
  },
  {
   "cell_type": "code",
   "execution_count": null,
   "metadata": {},
   "outputs": [],
   "source": []
  },
  {
   "cell_type": "markdown",
   "metadata": {},
   "source": [
    "4. A,B의 값으로 인덱스, 셀에 들어가는 값은 D, E의 평균으로 출력하세요. "
   ]
  },
  {
   "cell_type": "code",
   "execution_count": null,
   "metadata": {},
   "outputs": [],
   "source": []
  },
  {
   "cell_type": "markdown",
   "metadata": {},
   "source": [
    "5. 4번을 groupby로 똑같이 나타내세요."
   ]
  },
  {
   "cell_type": "code",
   "execution_count": null,
   "metadata": {},
   "outputs": [],
   "source": []
  },
  {
   "cell_type": "markdown",
   "metadata": {},
   "source": [
    "6. 4번 table에서 D는 평균, E는 중앙값으로 데이터를 출력하세요."
   ]
  },
  {
   "cell_type": "code",
   "execution_count": null,
   "metadata": {},
   "outputs": [],
   "source": []
  }
 ],
 "metadata": {
  "kernelspec": {
   "display_name": "Python 3",
   "language": "python",
   "name": "python3"
  },
  "language_info": {
   "codemirror_mode": {
    "name": "ipython",
    "version": 3
   },
   "file_extension": ".py",
   "mimetype": "text/x-python",
   "name": "python",
   "nbconvert_exporter": "python",
   "pygments_lexer": "ipython3",
   "version": "3.7.6"
  }
 },
 "nbformat": 4,
 "nbformat_minor": 4
}
