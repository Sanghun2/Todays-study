{
 "cells": [
  {
   "cell_type": "markdown",
   "metadata": {},
   "source": [
    "# 자연어처리\n",
    "텍스트들의 의미파악할 수 있도록 퇴대한 처리를 해야함\n",
    "\n",
    "ㅁ+ㄱ-ㄹ\n",
    "\n",
    "'-'는 빼기\n",
    "\n",
    "ㅁ-ㅁ-ㅁ\n",
    "여기서 '-'는 연결된다는 의미\n",
    "\n",
    "<스팸메일분류>\n",
    "스팸에 많이 쓰이는 단어를 뽑아내 그걸 이용해서 스팸분류\n",
    "\n",
    "<감정분석>\n",
    "사랑-최고-감동-눈물\n",
    "벡터공간에 긍정적인것, 부정적인것을 서로 가깝게 배치한다고 하면\n",
    "그것이 어디에 가까운지를 바탕으로 예측\n",
    "\n",
    "위의 내용들을 이용하면 사용자 후기애 대한 분석을 바탕으로 추천시스템을 만들수도 있다.\n"
   ]
  }
 ],
 "metadata": {
  "kernelspec": {
   "display_name": "Python 3",
   "language": "python",
   "name": "python3"
  },
  "language_info": {
   "codemirror_mode": {
    "name": "ipython",
    "version": 3
   },
   "file_extension": ".py",
   "mimetype": "text/x-python",
   "name": "python",
   "nbconvert_exporter": "python",
   "pygments_lexer": "ipython3",
   "version": "3.7.6"
  }
 },
 "nbformat": 4,
 "nbformat_minor": 4
}
